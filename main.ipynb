{
 "cells": [
  {
   "cell_type": "code",
   "execution_count": 3,
   "metadata": {},
   "outputs": [],
   "source": [
    "import json\n",
    "import numpy as np\n",
    "import torch.nn.functional as F\n",
    "import os\n",
    "import sys\n",
    "import scipy.stats\n",
    "import matplotlib.pyplot as plt\n",
    "from pathlib import Path\n",
    "from multiprocessing import Pool"
   ]
  },
  {
   "cell_type": "code",
   "execution_count": 4,
   "metadata": {},
   "outputs": [],
   "source": [
    "# Parameters\n",
    "GPU_ID = 0\n",
    "NUM_THREAD = 8\n",
    "N = 100\n",
    "A2C_NAME = '1201_512'\n",
    "A2C_T = 15000000 # For the skilled dataset\n",
    "#A2C_T=500000 # For the unskilled dataset\n",
    "\n",
    "NUM_SEED = 1 #100\n",
    "\n",
    "# Paths\n",
    "META_DIR_PATH = './data/meta_models'\n",
    "ENCODER_DIR_PATH = '{}/encoder'.format(META_DIR_PATH)\n",
    "DATASET_PATH = './data/records/{}.pickle.gzip'.format(A2C_T)"
   ]
  },
  {
   "cell_type": "markdown",
   "metadata": {
    "tags": []
   },
   "source": [
    "# Training and evaluating Encoder and Manifestor"
   ]
  },
  {
   "cell_type": "code",
   "execution_count": null,
   "metadata": {
    "tags": []
   },
   "outputs": [
    {
     "name": "stdout",
     "output_type": "stream",
     "text": [
      "257812 244823\n",
      "Epoch: 0 (25 %), order: [0, 1, 2]{'loss': 0.0008034188224677966, 'acc0': 0.3890904017857143, 'acc1': 0.41223338293650796, 'loss2': 0.006654481086619579, 'acc_g0': 0.2844897073412698, 'acc_g1': 0.0704985119047619}\n",
      "Epoch: 0 (50 %), order: [0, 1, 2]{'loss': 0.0006877215384551718, 'acc0': 0.4644632206759443, 'acc1': 0.5505871023856859, 'loss2': 0.00805101331033279, 'acc_g0': 0.28148297713717696, 'acc_g1': 0.07037462723658051}\n",
      "Epoch: 0 (75 %), order: [0, 1, 2]{'loss': 0.0006742798174821269, 'acc0': 0.4481703528827038, 'acc1': 0.5516277335984096, 'loss2': 0.008208678431063135, 'acc_g0': 0.28319147614314116, 'acc_g1': 0.07256461232604373}\n",
      "Epoch: 0 (100 %), order: [0, 1, 2]{'loss': 0.0006368623851585545, 'acc0': 0.4258977385685885, 'acc1': 0.5510530566600398, 'loss2': 0.008247416938022127, 'acc_g0': 0.28292743538767395, 'acc_g1': 0.07177249005964215}\n",
      "Epoch: 0 (test %), order: [0, 1, 2]{'loss': 0.0005585222004339464, 'acc0': 0.35784628078244285, 'acc1': 0.5756812064225992, 'loss2': 0.009200485357541144, 'acc_g0': 0.26398663524260385, 'acc_g1': 0.1300368020978421}\n",
      "Epoch: 1 (25 %), order: [0, 1, 2]{'loss': 0.000603001147753367, 'acc0': 0.38244047619047616, 'acc1': 0.5313430059523809, 'loss2': 0.007996104787869825, 'acc_g0': 0.28490823412698413, 'acc_g1': 0.07259114583333333}\n",
      "Epoch: 1 (50 %), order: [0, 1, 2]{'loss': 0.0005299336746905584, 'acc0': 0.3225646123260437, 'acc1': 0.5047527335984096, 'loss2': 0.007513160277358609, 'acc_g0': 0.279324055666004, 'acc_g1': 0.071275472166998}\n",
      "Epoch: 1 (75 %), order: [0, 1, 2]{'loss': 0.0004932789590075486, 'acc0': 0.2969371272365805, 'acc1': 0.4931970675944334, 'loss2': 0.007278267942563867, 'acc_g0': 0.283175944333996, 'acc_g1': 0.07144632206759444}\n",
      "Epoch: 1 (100 %), order: [0, 1, 2]{'loss': 0.0004748498301316746, 'acc0': 0.2812965954274354, 'acc1': 0.4875745526838966, 'loss2': 0.00713413080735055, 'acc_g0': 0.2846514662027833, 'acc_g1': 0.069831013916501}\n",
      "Epoch: 1 (test %), order: [0, 1, 2]{'loss': 0.0004119902138736865, 'acc0': 0.29741486706722814, 'acc1': 0.5307507873034805, 'loss2': 0.00804131660269788, 'acc_g0': 0.26398663524260385, 'acc_g1': 0.1300368020978421}\n"
     ]
    }
   ],
   "source": [
    "for seed in range(NUM_SEED):\n",
    "    #!bash ./train_encoder.sh \"$DATASET_PATH\" $seed $GPU_ID\n",
    "    for mapping in '012 021 102 120 201 210'.split():\n",
    "        !bash ./train_meta.sh Manifestor $DATASET_PATH $GPU_ID $ENCODER_DIR_PATH $seed $mapping $N"
   ]
  },
  {
   "cell_type": "markdown",
   "metadata": {},
   "source": [
    "# Draw Fig. 3"
   ]
  },
  {
   "cell_type": "code",
   "execution_count": 5,
   "metadata": {},
   "outputs": [],
   "source": [
    "def softmax(x):\n",
    "    return np.exp(x) / np.exp(x).sum(axis=1, keepdims=True)\n",
    "\n",
    "def calc_loss2(g2, r, match_rate):\n",
    "    cross_entropy_all = list()\n",
    "    match_rate_all = list()\n",
    "    for g2_epi, r_epi, match_epi in zip(g2, r, match_rate):\n",
    "        # calc loss (normalized cross entropy)\n",
    "        match_epi = np.array(match_epi)\n",
    "        r_epi = np.array([r_epi[:, i:i+100].sum(axis=1)/20 for i in range(match_epi.shape[0])])\n",
    "        g0_epi = softmax(r_epi)\n",
    "        nll = -np.log(g2_epi)\n",
    "        cross_entropy = nll * g0_epi\n",
    "\n",
    "        cross_entropy_all.append(cross_entropy)\n",
    "        match_rate_all.append(match_epi)\n",
    "    cross_entropy_all = np.vstack(cross_entropy_all)\n",
    "    match_rate_all = np.hstack(match_rate_all)\n",
    "\n",
    "    loss = cross_entropy_all.sum(axis=1) / cross_entropy_all.sum()\n",
    "    loss *= match_rate_all\n",
    "    loss /= match_rate_all.sum()\n",
    "    return loss.sum()"
   ]
  },
  {
   "cell_type": "code",
   "execution_count": 6,
   "metadata": {},
   "outputs": [],
   "source": [
    "DATA_DIR = Path('./data/meta_models/goal_loss'.format(A2C_T))\n",
    "def process(seed):\n",
    "    translaters = '012 021 102 120 201 210'.split()\n",
    "    results_in_seed = dict()\n",
    "    accuracies = dict()\n",
    "    for translater in translaters:\n",
    "        with (DATA_DIR/'{}_{}.json'.format(seed, translater)).open() as f:\n",
    "            data_original = json.load(f)\n",
    "        data =  {key: np.array([line[key] for line in data_original]) for key in ['g0','g1', 'g2', 'r_']}\n",
    "        data['match_rate'] = [line['match_rate'] for line in data_original]\n",
    "        results_in_seed[translater] = data\n",
    "        accuracies[translater] = (data['g1'].reshape(-1) == data['g2'].reshape((-1, 3)).argmax(axis=1)).mean()\n",
    "        \n",
    "    best_mapping, best_accuracy = max(accuracies.items(), key = lambda x:x[1])\n",
    "    # for debug only\n",
    "    # return best_mapping\n",
    "    trans = str.maketrans({num: char for char, num in zip('ABC', best_mapping)})\n",
    "\n",
    "    losses = dict()\n",
    "    for translater, data in results_in_seed.items():\n",
    "        order = translater.translate(trans)\n",
    "        loss = calc_loss2(data['g2'], data['r_'], data['match_rate'])\n",
    "        losses[order] = loss\n",
    "    ratio = np.array([losses[key] / losses['ABC'] for key in 'ACB BAC BCA CAB CBA'.split()])\n",
    "    n_win = (ratio > 1).sum()\n",
    "    return n_win, ratio, best_accuracy, best_mapping\n",
    "\n",
    "with Pool(NUM_THREAD) as p:\n",
    "    rtn = p.map(process, range(NUM_SEED))"
   ]
  },
  {
   "cell_type": "code",
   "execution_count": 7,
   "metadata": {},
   "outputs": [],
   "source": [
    "threshold = 0\n",
    "n_win = [l[0] for l in rtn if l is not None]\n",
    "ratios = [l[1] for l in rtn if l is not None]\n",
    "accuracies = [l[2] for l in rtn if l is not None]\n",
    "best_mappings = [l[3] for l in rtn if l is not None]\n",
    "assert len(n_win) == NUM_SEED\n",
    "\n",
    "with (Path(META_DIR_PATH)/'best_mappings.txt').open('w') as f:\n",
    "    f.write(' '.join(best_mappings))\n",
    "\n",
    "n_total = len(ratios) * 5\n",
    "\n",
    "ratios = np.array(ratios)"
   ]
  },
  {
   "cell_type": "code",
   "execution_count": 8,
   "metadata": {},
   "outputs": [
    {
     "name": "stdout",
     "output_type": "stream",
     "text": [
      "[1. 2. 5. 3. 4.]\n",
      "[1.11782217 1.14578562 1.28703156 1.17042899 1.17878085]\n",
      "[1.11782217 1.14578562 1.28703156 1.17042899 1.17878085]\n",
      "[1.11782217 1.14578562 1.28703156 1.17042899 1.17878085]\n",
      "{'threshold': 0, 'n_win': 5, 'n_total': 5, 'percentage': 1.0, 'min': 1.1178221656039933, 'max': 1.2870315584832708, 'mean': 1.1799698363146427, 'std': 0.05759435250470573, 'median': 1.1704289852706822}\n"
     ]
    },
    {
     "name": "stderr",
     "output_type": "stream",
     "text": [
      "/home/fu/.local/share/virtualenvs/dqn_lunar_D-vEW6w6XU/lib/python3.8/site-packages/numpy/core/fromnumeric.py:3208: VisibleDeprecationWarning: Creating an ndarray from ragged nested sequences (which is a list-or-tuple of lists-or-tuples-or ndarrays with different lengths or shapes) is deprecated. If you meant to do this, you must specify 'dtype=object' when creating the ndarray.\n",
      "  return asarray(a).size\n",
      "/home/fu/.local/share/virtualenvs/dqn_lunar_D-vEW6w6XU/lib/python3.8/site-packages/matplotlib/cbook/__init__.py:1376: VisibleDeprecationWarning: Creating an ndarray from ragged nested sequences (which is a list-or-tuple of lists-or-tuples-or ndarrays with different lengths or shapes) is deprecated. If you meant to do this, you must specify 'dtype=object' when creating the ndarray.\n",
      "  X = np.atleast_1d(X.T if isinstance(X, np.ndarray) else np.asarray(X))\n"
     ]
    },
    {
     "data": {
      "text/plain": [
       "(1.0670869796925153, 1.29285269293677)"
      ]
     },
     "execution_count": 8,
     "metadata": {},
     "output_type": "execute_result"
    },
    {
     "data": {
      "image/png": "[encoded data removed]",
      "text/plain": [
       "<Figure size 432x288 with 1 Axes>"
      ]
     },
     "metadata": {
      "needs_background": "light"
     },
     "output_type": "display_data"
    }
   ],
   "source": [
    "class MyEncoder(json.JSONEncoder):\n",
    "    def default(self, obj):\n",
    "        if isinstance(obj, np.integer):\n",
    "            return int(obj)\n",
    "        elif isinstance(obj, np.floating):\n",
    "            return float(obj)\n",
    "        elif isinstance(obj, np.ndarray):\n",
    "            return obj.tolist()\n",
    "        else:\n",
    "            return super(MyEncoder, self).default(obj)\n",
    "print(ratios.argsort(axis=1).argsort(axis=1).mean(axis=0) + 1)\n",
    "print(ratios.mean(axis=0))\n",
    "print(ratios.min(axis=0))\n",
    "print(ratios.max(axis=0))\n",
    "\n",
    "statistics = dict(\n",
    "    threshold=threshold,\n",
    "    n_win=sum(n_win),\n",
    "    n_total=n_total,\n",
    "    percentage=sum(n_win)/n_total,\n",
    "    min=ratios.min(),\n",
    "    max=ratios.max(),\n",
    "    mean=ratios.mean(),\n",
    "    std=ratios.std(),\n",
    "    median=np.median(ratios)\n",
    ")\n",
    "print(statistics)\n",
    "\n",
    "plt.figure(figsize=(6,4))\n",
    "plt.hist([ratios[ratios<1], ratios[ratios>=1]], histtype='barstacked', bins=np.arange(0.8, 1.55, 0.005),  ec='white', color=['tab:red','tab:blue'])\n",
    "plt.xlabel('Ratio')\n",
    "plt.ylabel('Density')\n",
    "plt.savefig(DATA_DIR/'hist_{}.pdf'.format(A2C_T))\n",
    "with (DATA_DIR/'hist_{}_stats.json'.format(A2C_T)).open('w') as f:\n",
    "    json.dump(statistics, f, cls=MyEncoder)\n",
    "\n",
    "scipy.stats.norm.interval(alpha=.95, loc=ratios.mean(), scale=ratios.std())"
   ]
  },
  {
   "cell_type": "markdown",
   "metadata": {},
   "source": [
    "# TRAINING ablation and optimal"
   ]
  },
  {
   "cell_type": "code",
   "execution_count": 9,
   "metadata": {
    "tags": []
   },
   "outputs": [
    {
     "name": "stdout",
     "output_type": "stream",
     "text": [
      "257812 244823\n",
      "Epoch: 0 (25 %), order: [2, 0, 1]{'loss': 0.0020820292415025185, 'acc0': 0.4740513392857143, 'acc1': 0.4758959573412698, 'loss2': 0.006402137650904204, 'acc_g0': 0.3232576884920635, 'acc_g1': 0.9295014880952381}\n",
      "Epoch: 0 (50 %), order: [2, 0, 1]{'loss': 0.0018873854541865767, 'acc0': 0.52704087972167, 'acc1': 0.5761835238568589, 'loss2': 0.0074193388455188695, 'acc_g0': 0.3248322564612326, 'acc_g1': 0.9296253727634195}\n",
      "Epoch: 0 (75 %), order: [2, 0, 1]{'loss': 0.0018771060790749709, 'acc0': 0.5251615308151093, 'acc1': 0.5746458747514911, 'loss2': 0.007525441750114617, 'acc_g0': 0.3251428926441352, 'acc_g1': 0.9274353876739563}\n",
      "Epoch: 0 (100 %), order: [2, 0, 1]{'loss': 0.0018482766568310813, 'acc0': 0.5212630467196819, 'acc1': 0.579087972166998, 'loss2': 0.0076241552051635846, 'acc_g0': 0.3245682157057654, 'acc_g1': 0.9282275099403579}\n",
      "Epoch: 0 (test %), order: [2, 0, 1]{'loss': 0.0018406970178733032, 'acc0': 0.4834104638861545, 'acc1': 0.5972600613504451, 'loss2': 0.00894862193355834, 'acc_g0': 0.3148805463538965, 'acc_g1': 0.8654048026533455}\n",
      "Epoch: 1 (25 %), order: [2, 0, 1]{'loss': 0.0018480813481303604, 'acc0': 0.5181826636904762, 'acc1': 0.5793030753968254, 'loss2': 0.00767013744651667, 'acc_g0': 0.324187748015873, 'acc_g1': 0.9274088541666666}\n",
      "Epoch: 1 (50 %), order: [2, 0, 1]{'loss': 0.0018410126032794541, 'acc0': 0.5201447564612326, 'acc1': 0.5790103131212724, 'loss2': 0.007691234238344796, 'acc_g0': 0.32511182902584496, 'acc_g1': 0.928724527833002}\n",
      "Epoch: 1 (75 %), order: [2, 0, 1]{'loss': 0.0018377337877353089, 'acc0': 0.5162152087475149, 'acc1': 0.5762922465208747, 'loss2': 0.007661446735722123, 'acc_g0': 0.3245060884691849, 'acc_g1': 0.9285536779324056}\n",
      "Epoch: 1 (100 %), order: [2, 0, 1]{'loss': 0.0018256519793022942, 'acc0': 0.5154541500994035, 'acc1': 0.5767116053677932, 'loss2': 0.007703078755934814, 'acc_g0': 0.3239935387673956, 'acc_g1': 0.930168986083499}\n"
     ]
    }
   ],
   "source": [
    "for seed, mapping in zip(range(NUM_SEED), best_mappings):\n",
    "    !bash ./train_meta.sh ablation \"$DATASET_PATH\" $GPU_ID $ENCODER_DIR_PATH $seed $mapping $N\n",
    "    !bash ./train_meta.sh optimal \"$DATASET_PATH\" $GPU_ID $ENCODER_DIR_PATH $seed $mapping $N"
   ]
  },
  {
   "cell_type": "markdown",
   "metadata": {},
   "source": [
    "# Draw Fig. 4"
   ]
  },
  {
   "cell_type": "code",
   "execution_count": 10,
   "metadata": {},
   "outputs": [],
   "source": [
    "NUM_OPTIMAL = 5\n",
    "optimals = sorted((Path(META_DIR_PATH)/'optimal').glob('*'), key=lambda p: int(p.name))[:NUM_OPTIMAL]\n",
    "optimals = [str(list(p.glob('**/Transformer_state_seqlast19.pt'))[0]) for p in optimals]\n",
    "\n",
    "TEACHER_PATHS = ';'.join(optimals)\n",
    "for seed, mapping in zip(range(NUM_SEED), best_mappings):      \n",
    "    !bash ./eval_meta.sh Manifestor $DATASET_PATH $GPU_ID $seed $META_DIR_PATH $mapping $TEACHER_PATHS $N\n",
    "    !bash ./eval_meta.sh ablation $DATASET_PATH $GPU_ID $seed $META_DIR_PATH $mapping $TEACHER_PATHS $N\n"
   ]
  },
  {
   "cell_type": "code",
   "execution_count": 11,
   "metadata": {},
   "outputs": [],
   "source": [
    "def load_data(target):\n",
    "    assert target in ['ablation', 'Manifestor']\n",
    "    comparison_data_dir = Path(META_DIR_PATH)/target/'comparison'\n",
    "    data = [np.load(comparison_data_dir/'{}_{}.npz'.format(i, mapping)) for i, mapping in enumerate(best_mappings)]\n",
    "    return data\n",
    "\n",
    "def calc_acc(ys, ts):\n",
    "    t_labels = ts.mean(axis=1).argmax(axis=1)\n",
    "    y_labels = ys.argmax(axis=1)\n",
    "    n = ys.shape[0]\n",
    "    return (t_labels == y_labels).sum() / n\n",
    "\n",
    "acc_manifestor = np.array([calc_acc(**line) for line in load_data('Manifestor')])\n",
    "acc_ablation = np.array([calc_acc(**line) for line in load_data('ablation')])"
   ]
  },
  {
   "cell_type": "code",
   "execution_count": 12,
   "metadata": {},
   "outputs": [
    {
     "data": {
      "text/plain": [
       "(array([[1.02379963e-04, 4.24365280e-04, 9.99473274e-01],\n",
       "        [1.04135717e-04, 3.77798628e-04, 9.99518037e-01],\n",
       "        [1.06602914e-04, 3.40758124e-04, 9.99552548e-01],\n",
       "        ...,\n",
       "        [4.00026351e-01, 2.84857731e-02, 5.71487844e-01],\n",
       "        [3.96173954e-01, 2.96990592e-02, 5.74127018e-01],\n",
       "        [3.91009659e-01, 3.10716089e-02, 5.77918649e-01]], dtype=float32),\n",
       " array([[[1.44580499e-05, 3.48639727e-01, 6.51345849e-01]],\n",
       " \n",
       "        [[1.23336267e-05, 1.98245868e-01, 8.01741779e-01]],\n",
       " \n",
       "        [[9.97751704e-06, 1.02257416e-01, 8.97732675e-01]],\n",
       " \n",
       "        ...,\n",
       " \n",
       "        [[5.30979651e-06, 1.69221443e-04, 9.99825418e-01]],\n",
       " \n",
       "        [[5.29400177e-06, 1.70091269e-04, 9.99824703e-01]],\n",
       " \n",
       "        [[5.27844759e-06, 1.70427666e-04, 9.99824345e-01]]], dtype=float32))"
      ]
     },
     "execution_count": 12,
     "metadata": {},
     "output_type": "execute_result"
    }
   ],
   "source": [
    "load_data('Manifestor')[0]['ys'], load_data('Manifestor')[0]['ts']"
   ]
  },
  {
   "cell_type": "code",
   "execution_count": 13,
   "metadata": {},
   "outputs": [
    {
     "name": "stdout",
     "output_type": "stream",
     "text": [
      "0.5595919124131163 0.0 0.5595919124131163 0.5595919124131163 0.5595919124131163\n",
      "0.8234469472570309 0.0 0.8234469472570309 0.8234469472570309 0.8234469472570309\n",
      "MannwhitneyuResult(statistic=0.0, pvalue=1.0)\n"
     ]
    }
   ],
   "source": [
    "def print_stats(l):\n",
    "    print(\n",
    "        l.mean(),\n",
    "        l.std(),\n",
    "        l.min(),\n",
    "        l.max(),\n",
    "        np.median(l)\n",
    "    )\n",
    "\n",
    "print_stats(acc_ablation)\n",
    "print_stats(acc_manifestor)\n",
    "print(scipy.stats.mannwhitneyu(acc_ablation, acc_manifestor))"
   ]
  },
  {
   "cell_type": "code",
   "execution_count": 14,
   "metadata": {},
   "outputs": [
    {
     "data": {
      "image/png": "[encoded data removed]",
      "text/plain": [
       "<Figure size 216x288 with 1 Axes>"
      ]
     },
     "metadata": {
      "needs_background": "light"
     },
     "output_type": "display_data"
    }
   ],
   "source": [
    "import pandas as pd\n",
    "from matplotlib import pyplot as plt\n",
    "import seaborn as sns\n",
    "\n",
    "fig, ax = plt.subplots(figsize=(3,4))\n",
    "df = pd.DataFrame(\n",
    "    \n",
    "    [['manifestor', line] for line in acc_manifestor] + [['ablation', line] for line in acc_ablation],\n",
    "    columns=['type', 'accuracy'])\n",
    "palette=(sns.color_palette()[0], sns.color_palette()[2])\n",
    "sns.boxenplot(x='type', y='accuracy', data=df, ax=ax, palette=palette)\n",
    "ax.set_ylabel('Accuracy')\n",
    "ax.set_ylim([0.25,0.97])\n",
    "ax.set_xlabel('')\n",
    "ax.set_xticklabels(['Manifestor', 'Ablation'])\n",
    "plt.savefig('{}/B-2.pdf'.format(META_DIR_PATH))"
   ]
  },
  {
   "cell_type": "code",
   "execution_count": 15,
   "metadata": {},
   "outputs": [
    {
     "name": "stdout",
     "output_type": "stream",
     "text": [
      "(nan, nan)\n",
      "(nan, nan)\n"
     ]
    },
    {
     "name": "stderr",
     "output_type": "stream",
     "text": [
      "/home/fu/.local/share/virtualenvs/dqn_lunar_D-vEW6w6XU/lib/python3.8/site-packages/scipy/stats/_distn_infrastructure.py:2128: RuntimeWarning: invalid value encountered in multiply\n",
      "  lower_bound = _a * scale + loc\n",
      "/home/fu/.local/share/virtualenvs/dqn_lunar_D-vEW6w6XU/lib/python3.8/site-packages/scipy/stats/_distn_infrastructure.py:2129: RuntimeWarning: invalid value encountered in multiply\n",
      "  upper_bound = _b * scale + loc\n"
     ]
    }
   ],
   "source": [
    "print(scipy.stats.norm.interval(alpha=.95, loc=acc_manifestor.mean(), scale=acc_manifestor.std()))\n",
    "print(scipy.stats.norm.interval(alpha=.95, loc=acc_ablation.mean(), scale=acc_ablation.std()))"
   ]
  },
  {
   "cell_type": "code",
   "execution_count": null,
   "metadata": {},
   "outputs": [],
   "source": []
  }
 ],
 "metadata": {
  "kernelspec": {
   "display_name": "Python 3 (ipykernel)",
   "language": "python",
   "name": "python3"
  },
  "language_info": {
   "codemirror_mode": {
    "name": "ipython",
    "version": 3
   },
   "file_extension": ".py",
   "mimetype": "text/x-python",
   "name": "python",
   "nbconvert_exporter": "python",
   "pygments_lexer": "ipython3",
   "version": "3.8.10"
  }
 },
 "nbformat": 4,
 "nbformat_minor": 4
}
